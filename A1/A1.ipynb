{
 "cells": [
  {
   "cell_type": "markdown",
   "metadata": {},
   "source": [
    "# Assignment 1"
   ]
  },
  {
   "cell_type": "markdown",
   "metadata": {},
   "source": [
    "### Imports"
   ]
  },
  {
   "cell_type": "code",
   "execution_count": 1,
   "metadata": {},
   "outputs": [],
   "source": [
    "import pandas as pd \n",
    "import numpy as np\n",
    "import matplotlib.pyplot as plt\n",
    "\n",
    "from sklearn.metrics import confusion_matrix, classification_report"
   ]
  },
  {
   "cell_type": "markdown",
   "metadata": {},
   "source": [
    "### Load data"
   ]
  },
  {
   "cell_type": "code",
   "execution_count": 2,
   "metadata": {},
   "outputs": [],
   "source": [
    "info_1 = pd.read_csv(\"data/info_1.csv\", header=None) \n",
    "info_2 = pd.read_csv(\"data/info_2.csv\", header=None) \n",
    "test_no_label_1 = pd.read_csv(\"data/test_no_label_1.csv\", header=None) \n",
    "test_no_label_2 = pd.read_csv(\"data/test_no_label_2.csv\",header=None) \n",
    "test_with_label_1 = pd.read_csv(\"data/test_with_label_1.csv\", header=None) \n",
    "test_with_label_2 = pd.read_csv(\"data/test_with_label_2.csv\", header=None) \n",
    "train_1 = pd.read_csv(\"data/train_1.csv\", header=None) \n",
    "train_2 = pd.read_csv(\"data/train_2.csv\", header=None) \n",
    "val_1 = pd.read_csv(\"data/val_1.csv\", header=None) \n",
    "val_2 = pd.read_csv(\"data/val_2.csv\", header=None) \n",
    "sample_submission = pd.read_csv(\"data/sample_submission.csv\", header=None) "
   ]
  },
  {
   "cell_type": "markdown",
   "metadata": {},
   "source": [
    "### Partition the data sets 1 & 2 into train, val and test"
   ]
  },
  {
   "cell_type": "code",
   "execution_count": 3,
   "metadata": {},
   "outputs": [],
   "source": [
    "# Data set 1\n",
    "X_train_1 = train_1.iloc[:, 0:1024].to_numpy()\n",
    "Y_train_1 = train_1.iloc[:, 1024:1025].to_numpy().ravel()\n",
    "\n",
    "X_val_1 = val_1.iloc[:, 0:1024].to_numpy()\n",
    "Y_val_1 = val_1.iloc[:, 1024:1025].to_numpy().ravel()\n",
    "\n",
    "X_test_1 = test_with_label_1.iloc[:, 0:1024].to_numpy()\n",
    "Y_test_1 = test_with_label_1.iloc[:, 1024:1025].to_numpy().ravel()\n",
    "\n",
    "# Data set 2\n",
    "X_train_2 = train_2.iloc[:, 0:1024].to_numpy()\n",
    "Y_train_2 = train_2.iloc[:, 1024:1025].to_numpy().ravel()\n",
    "\n",
    "X_val_2 = val_2.iloc[:, 0:1024].to_numpy()\n",
    "Y_val_2 = val_2.iloc[:, 1024:1025].to_numpy().ravel()\n",
    "\n",
    "X_test_2 = test_with_label_2.iloc[:, 0:1024].to_numpy()\n",
    "Y_test_2 = test_with_label_2.iloc[:, 1024:1025].to_numpy().ravel()"
   ]
  },
  {
   "cell_type": "markdown",
   "metadata": {},
   "source": [
    "### Distribution of Classes"
   ]
  },
  {
   "cell_type": "code",
   "execution_count": 64,
   "metadata": {},
   "outputs": [
    {
     "data": {
      "image/png": "[encoded data removed]",
      "text/plain": [
       "<Figure size 432x288 with 1 Axes>"
      ]
     },
     "metadata": {
      "needs_background": "light"
     },
     "output_type": "display_data"
    },
    {
     "data": {
      "image/png": "[encoded data removed]",
      "text/plain": [
       "<Figure size 432x288 with 1 Axes>"
      ]
     },
     "metadata": {
      "needs_background": "light"
     },
     "output_type": "display_data"
    }
   ],
   "source": [
    "DataSet_Y_1 = np.concatenate((Y_train_1, Y_val_1, Y_test_1), axis=0) \n",
    "DataSet_Y_2 = np.concatenate((Y_train_2, Y_val_2, Y_test_2), axis=0) \n",
    "DataSet_Count_1 = np.bincount(DataSet_Y_1)\n",
    "DataSet_Count_2 = np.bincount(DataSet_Y_2)\n",
    "\n",
    "# DS1\n",
    "labels_1 =  [chr(x) for x in range(ord('A'), ord('Z') + 1)]\n",
    "labels_value_1 = np.arange(len(labels_1))\n",
    "\n",
    "plt.bar(labels_value_1, DataSet_Count_1, align='center', alpha=0.5)\n",
    "plt.xticks(labels_value_1, labels_1)\n",
    "plt.ylabel('Count')\n",
    "plt.title('Distribution of Letters in Data Set 1')\n",
    "\n",
    "plt.show()\n",
    "\n",
    "# DS2\n",
    "labels_2 =  ['π', 'α', 'β', 'σ', 'γ', 'δ', 'λ', 'ω', 'μ', 'ξ']\n",
    "labels_value_2 = np.arange(len(labels_2))\n",
    "\n",
    "plt.bar(labels_value_2, DataSet_Count_2, align='center', alpha=0.5)\n",
    "plt.xticks(labels_value_2, labels_2)\n",
    "plt.ylabel('Count')\n",
    "plt.title('Distribution of Greek Letters in Data Set 2')\n",
    "\n",
    "plt.show()"
   ]
  },
  {
   "cell_type": "markdown",
   "metadata": {},
   "source": [
    "### Analysis of datasets\n",
    "\n",
    "#### For Data Set 1 (Letters from A to Z)\n",
    "The dataset 1 is mostly evenly distributed. One thing that could make the models less performant is the big amount of classes in this set (26 in this case). So the models will require to make a decision of classifying between 26 classes. If we were to make a random choice, each class would have a 1/26 probability of occurrence. So the models have less chance of being correct by leveraging luck.\n",
    "\n",
    "#### For Data Set 2 (10 Greek Letters)\n",
    "The dataset 2 is not evenly distributed, this could lead to some some letters being better classified than other letters that occur much less.\n",
    "Another thing is that because there are less classes than in the first data set, this dataset has 1/10 chance of guessing the correct class by a random guess. So this dataset provides better odds to the same model than the previous dataset."
   ]
  },
  {
   "cell_type": "markdown",
   "metadata": {},
   "source": [
    "### GNB"
   ]
  },
  {
   "cell_type": "code",
   "execution_count": 4,
   "metadata": {},
   "outputs": [
    {
     "name": "stderr",
     "output_type": "stream",
     "text": [
      "/opt/conda/lib/python3.8/site-packages/sklearn/metrics/_classification.py:1221: UndefinedMetricWarning: Precision and F-score are ill-defined and being set to 0.0 in labels with no predicted samples. Use `zero_division` parameter to control this behavior.\n",
      "  _warn_prf(average, modifier, msg_start, len(result))\n"
     ]
    }
   ],
   "source": [
    "# Imports for GNB\n",
    "from sklearn.naive_bayes import GaussianNB\n",
    "\n",
    "gnb = GaussianNB()\n",
    "\n",
    "# DS1\n",
    "trained_model_1 = gnb.fit(X_train_1, Y_train_1)\n",
    "Y_pred_1 = trained_model_1.predict(X_test_1)\n",
    "\n",
    "# DS2\n",
    "trained_model_2 = gnb.fit(X_train_2, Y_train_2)\n",
    "Y_pred_2 = trained_model_2.predict(X_test_2)\n",
    "\n",
    "# Outputs\n",
    "GNB_DS1 = pd.DataFrame(data=Y_pred_1)\n",
    "GNB_DS1.index = GNB_DS1.index + 1\n",
    "GNB_DS1.to_csv(\"output_files/GNB-DS1.csv\", header=None)\n",
    "\n",
    "GNB_DS2 = pd.DataFrame(data=Y_pred_2)\n",
    "GNB_DS2.index = GNB_DS2.index + 1\n",
    "GNB_DS2.to_csv(\"output_files/GNB-DS2.csv\", header=None)\n",
    "\n",
    "f_GNB_DS1 = open(\"output_files/GNB-DS1.csv\", \"a\")\n",
    "conf_1 = confusion_matrix(Y_test_1, Y_pred_1)\n",
    "report_1 = classification_report(Y_test_1, Y_pred_1)\n",
    "f_GNB_DS1.write(\"\\nConfusion Matrix:\\n\\n\")\n",
    "f_GNB_DS1.write(str(conf_1))\n",
    "f_GNB_DS1.write(\"\\n\\nClassification Report:\\n\\n\")\n",
    "f_GNB_DS1.write(str(report_1))\n",
    "f_GNB_DS1.close()\n",
    "\n",
    "f_GNB_DS2 = open(\"output_files/GNB-DS2.csv\", \"a\")\n",
    "conf_2 = confusion_matrix(Y_test_2, Y_pred_2)\n",
    "report_2 = classification_report(Y_test_2, Y_pred_2)\n",
    "f_GNB_DS2.write(\"\\nConfusion Matrix:\\n\\n\")\n",
    "f_GNB_DS2.write(str(conf_2))\n",
    "f_GNB_DS2.write(\"\\n\\nClassification Report:\\n\\n\")\n",
    "f_GNB_DS2.write(str(report_2))\n",
    "f_GNB_DS2.close()"
   ]
  },
  {
   "cell_type": "markdown",
   "metadata": {},
   "source": [
    "### Note:\n",
    "- The warning is generated (from the first dataset) because the letter E corresponding to value 4 \n",
    "is never predicted by our model when it should have been predicted 2 times\n",
    "in the Y_test_1.\n",
    "- This leads to a denominator of 0 in the precision calculation and the same for the F1 measure therefore the report defaults these values to 0.0 ."
   ]
  },
  {
   "cell_type": "markdown",
   "metadata": {},
   "source": [
    "### Base-DT"
   ]
  },
  {
   "cell_type": "code",
   "execution_count": 5,
   "metadata": {},
   "outputs": [
    {
     "name": "stderr",
     "output_type": "stream",
     "text": [
      "/opt/conda/lib/python3.8/site-packages/sklearn/metrics/_classification.py:1221: UndefinedMetricWarning: Precision and F-score are ill-defined and being set to 0.0 in labels with no predicted samples. Use `zero_division` parameter to control this behavior.\n",
      "  _warn_prf(average, modifier, msg_start, len(result))\n"
     ]
    }
   ],
   "source": [
    "# Imports for DT\n",
    "from sklearn.tree import DecisionTreeClassifier\n",
    "\n",
    "base_dt = DecisionTreeClassifier(criterion=\"entropy\", random_state=0)\n",
    "\n",
    "# DS1\n",
    "trained_model_1 = base_dt.fit(X_train_1, Y_train_1)\n",
    "Y_pred_1 = trained_model_1.predict(X_test_1)\n",
    "\n",
    "# DS2\n",
    "trained_model_2 = base_dt.fit(X_train_2, Y_train_2)\n",
    "Y_pred_2 = trained_model_2.predict(X_test_2)\n",
    "\n",
    "# Outputs\n",
    "Base_DT_DS1 = pd.DataFrame(data=Y_pred_1)\n",
    "Base_DT_DS1.index = Base_DT_DS1.index + 1\n",
    "Base_DT_DS1.to_csv(\"output_files/Base-DT-DS1.csv\", header=None)\n",
    "\n",
    "Base_DT_DS2 = pd.DataFrame(data=Y_pred_2)\n",
    "Base_DT_DS2.index = Base_DT_DS2.index + 1\n",
    "Base_DT_DS2.to_csv(\"output_files/Base-DT-DS2.csv\", header=None)\n",
    "\n",
    "f_Base_DT_DS1 = open(\"output_files/Base-DT-DS1.csv\", \"a\")\n",
    "conf_1 = confusion_matrix(Y_test_1, Y_pred_1)\n",
    "report_1 = classification_report(Y_test_1, Y_pred_1)\n",
    "f_Base_DT_DS1.write(\"\\nConfusion Matrix:\\n\\n\")\n",
    "f_Base_DT_DS1.write(str(conf_1))\n",
    "f_Base_DT_DS1.write(\"\\n\\nClassification Report:\\n\\n\")\n",
    "f_Base_DT_DS1.write(str(report_1))\n",
    "f_Base_DT_DS1.close()\n",
    "\n",
    "f_Base_DT_DS2 = open(\"output_files/Base-DT-DS2.csv\", \"a\")\n",
    "conf_2 = confusion_matrix(Y_test_2, Y_pred_2)\n",
    "report_2 = classification_report(Y_test_2, Y_pred_2)\n",
    "f_Base_DT_DS2.write(\"\\nConfusion Matrix:\\n\\n\")\n",
    "f_Base_DT_DS2.write(str(conf_2))\n",
    "f_Base_DT_DS2.write(\"\\n\\nClassification Report:\\n\\n\")\n",
    "f_Base_DT_DS2.write(str(report_2))\n",
    "f_Base_DT_DS2.close()"
   ]
  },
  {
   "cell_type": "markdown",
   "metadata": {},
   "source": [
    "### Best-DT"
   ]
  },
  {
   "cell_type": "code",
   "execution_count": 13,
   "metadata": {},
   "outputs": [],
   "source": [
    "# Imports for DT\n",
    "from sklearn.tree import DecisionTreeClassifier\n",
    "from sklearn.model_selection import GridSearchCV\n",
    "\n",
    "parameters = {\n",
    "    'criterion':['gini', 'entropy'], \n",
    "    'max_depth':[10, None],\n",
    "    'min_samples_split':[1, 2, 3, 4],\n",
    "    'min_impurity_decrease':[0.0, 0.5],\n",
    "    'class_weight':[None, 'balanced'],\n",
    "}\n",
    "# DecisionTreeClassifier\n",
    "best_dt = GridSearchCV(estimator=DecisionTreeClassifier(), param_grid=parameters, n_jobs=-1)\n",
    "\n",
    "# DS1\n",
    "trained_model_1 = best_dt.fit(X_train_1, Y_train_1)\n",
    "Y_pred_1 = trained_model_1.predict(X_test_1)\n",
    "\n",
    "# DS2\n",
    "trained_model_2 = best_dt.fit(X_train_2, Y_train_2)\n",
    "Y_pred_2 = trained_model_2.predict(X_test_2)\n",
    "\n",
    "# Outputs\n",
    "Best_DT_DS1 = pd.DataFrame(data=Y_pred_1)\n",
    "Best_DT_DS1.index = Best_DT_DS1.index + 1\n",
    "Best_DT_DS1.to_csv(\"output_files/Best-DT-DS1.csv\", header=None)\n",
    "\n",
    "Best_DT_DS2 = pd.DataFrame(data=Y_pred_2)\n",
    "Best_DT_DS2.index = Best_DT_DS2.index + 1\n",
    "Best_DT_DS2.to_csv(\"output_files/Best-DT-DS2.csv\", header=None)\n",
    "\n",
    "f_Best_DT_DS1 = open(\"output_files/Best-DT-DS1.csv\", \"a\")\n",
    "conf_1 = confusion_matrix(Y_test_1, Y_pred_1)\n",
    "report_1 = classification_report(Y_test_1, Y_pred_1)\n",
    "f_Best_DT_DS1.write(\"\\nConfusion Matrix:\\n\\n\")\n",
    "f_Best_DT_DS1.write(str(conf_1))\n",
    "f_Best_DT_DS1.write(\"\\n\\nClassification Report:\\n\\n\")\n",
    "f_Best_DT_DS1.write(str(report_1))\n",
    "f_Best_DT_DS1.close()\n",
    "\n",
    "f_Best_DT_DS2 = open(\"output_files/Best-DT-DS2.csv\", \"a\")\n",
    "conf_2 = confusion_matrix(Y_test_2, Y_pred_2)\n",
    "report_2 = classification_report(Y_test_2, Y_pred_2)\n",
    "f_Best_DT_DS2.write(\"\\nConfusion Matrix:\\n\\n\")\n",
    "f_Best_DT_DS2.write(str(conf_2))\n",
    "f_Best_DT_DS2.write(\"\\n\\nClassification Report:\\n\\n\")\n",
    "f_Best_DT_DS2.write(str(report_2))\n",
    "f_Best_DT_DS2.close()"
   ]
  },
  {
   "cell_type": "code",
   "execution_count": 15,
   "metadata": {},
   "outputs": [
    {
     "name": "stdout",
     "output_type": "stream",
     "text": [
      "Best hyperparameters:\n",
      "{'class_weight': 'balanced', 'criterion': 'gini', 'max_depth': None, 'min_impurity_decrease': 0.0, 'min_samples_split': 2}\n",
      "{'class_weight': 'balanced', 'criterion': 'gini', 'max_depth': None, 'min_impurity_decrease': 0.0, 'min_samples_split': 2}\n"
     ]
    }
   ],
   "source": [
    "print(\"Best hyperparameters:\")\n",
    "print(trained_model_1.best_params_)\n",
    "print(trained_model_2.best_params_)"
   ]
  },
  {
   "cell_type": "markdown",
   "metadata": {},
   "source": [
    "### Perceptron"
   ]
  },
  {
   "cell_type": "code",
   "execution_count": 19,
   "metadata": {},
   "outputs": [],
   "source": [
    "# Imports for Perceptron\n",
    "from sklearn.linear_model import Perceptron\n",
    "\n",
    "perceptron = Perceptron()\n",
    "\n",
    "# DS1\n",
    "trained_model_1 = perceptron.fit(X_train_1, Y_train_1)\n",
    "Y_pred_1 = trained_model_1.predict(X_test_1)\n",
    "\n",
    "# DS2\n",
    "trained_model_2 = perceptron.fit(X_train_2, Y_train_2)\n",
    "Y_pred_2 = trained_model_2.predict(X_test_2)\n",
    "\n",
    "# Outputs\n",
    "Perceptron_DS1 = pd.DataFrame(data=Y_pred_1)\n",
    "Perceptron_DS1.index = Perceptron_DS1.index + 1\n",
    "Perceptron_DS1.to_csv(\"output_files/PER-DS1.csv\", header=None)\n",
    "\n",
    "Perceptron_DS2 = pd.DataFrame(data=Y_pred_2)\n",
    "Perceptron_DS2.index = Perceptron_DS2.index + 1\n",
    "Perceptron_DS2.to_csv(\"output_files/PER-DS2.csv\", header=None)\n",
    "\n",
    "f_Perceptron_DS1 = open(\"output_files/PER-DS1.csv\", \"a\")\n",
    "conf_1 = confusion_matrix(Y_test_1, Y_pred_1)\n",
    "report_1 = classification_report(Y_test_1, Y_pred_1)\n",
    "f_Perceptron_DS1.write(\"\\nConfusion Matrix:\\n\\n\")\n",
    "f_Perceptron_DS1.write(str(conf_1))\n",
    "f_Perceptron_DS1.write(\"\\n\\nClassification Report:\\n\\n\")\n",
    "f_Perceptron_DS1.write(str(report_1))\n",
    "f_Perceptron_DS1.close()\n",
    "\n",
    "f_Perceptron_DS2 = open(\"output_files/PER-DS2.csv\", \"a\")\n",
    "conf_2 = confusion_matrix(Y_test_2, Y_pred_2)\n",
    "report_2 = classification_report(Y_test_2, Y_pred_2)\n",
    "f_Perceptron_DS2.write(\"\\nConfusion Matrix:\\n\\n\")\n",
    "f_Perceptron_DS2.write(str(conf_2))\n",
    "f_Perceptron_DS2.write(\"\\n\\nClassification Report:\\n\\n\")\n",
    "f_Perceptron_DS2.write(str(report_2))\n",
    "f_Perceptron_DS2.close()"
   ]
  },
  {
   "cell_type": "markdown",
   "metadata": {},
   "source": [
    "### Base-MLP"
   ]
  },
  {
   "cell_type": "code",
   "execution_count": 23,
   "metadata": {},
   "outputs": [
    {
     "name": "stderr",
     "output_type": "stream",
     "text": [
      "/opt/conda/lib/python3.8/site-packages/sklearn/neural_network/_multilayer_perceptron.py:582: ConvergenceWarning: Stochastic Optimizer: Maximum iterations (200) reached and the optimization hasn't converged yet.\n",
      "  warnings.warn(\n",
      "/opt/conda/lib/python3.8/site-packages/sklearn/neural_network/_multilayer_perceptron.py:582: ConvergenceWarning: Stochastic Optimizer: Maximum iterations (200) reached and the optimization hasn't converged yet.\n",
      "  warnings.warn(\n",
      "/opt/conda/lib/python3.8/site-packages/sklearn/metrics/_classification.py:1221: UndefinedMetricWarning: Precision and F-score are ill-defined and being set to 0.0 in labels with no predicted samples. Use `zero_division` parameter to control this behavior.\n",
      "  _warn_prf(average, modifier, msg_start, len(result))\n"
     ]
    }
   ],
   "source": [
    "# Imports for MLP\n",
    "from sklearn.neural_network import MLPClassifier\n",
    "\n",
    "mlp = MLPClassifier(activation='logistic', solver='sgd')\n",
    "\n",
    "# DS1\n",
    "trained_model_1 = mlp.fit(X_train_1, Y_train_1)\n",
    "Y_pred_1 = trained_model_1.predict(X_test_1)\n",
    "\n",
    "# DS2\n",
    "trained_model_2 = mlp.fit(X_train_2, Y_train_2)\n",
    "Y_pred_2 = trained_model_2.predict(X_test_2)\n",
    "\n",
    "# Outputs\n",
    "MLP_DS1 = pd.DataFrame(data=Y_pred_1)\n",
    "MLP_DS1.index = MLP_DS1.index + 1\n",
    "MLP_DS1.to_csv(\"output_files/Base-MLP-DS1.csv\", header=None)\n",
    "\n",
    "MLP_DS2 = pd.DataFrame(data=Y_pred_2)\n",
    "MLP_DS2.index = MLP_DS2.index + 1\n",
    "MLP_DS2.to_csv(\"output_files/Base-MLP-DS2.csv\", header=None)\n",
    "\n",
    "f_MLP_DS1 = open(\"output_files/Base-MLP-DS1.csv\", \"a\")\n",
    "conf_1 = confusion_matrix(Y_test_1, Y_pred_1)\n",
    "report_1 = classification_report(Y_test_1, Y_pred_1)\n",
    "f_MLP_DS1.write(\"\\nConfusion Matrix:\\n\\n\")\n",
    "f_MLP_DS1.write(str(conf_1))\n",
    "f_MLP_DS1.write(\"\\n\\nClassification Report:\\n\\n\")\n",
    "f_MLP_DS1.write(str(report_1))\n",
    "f_MLP_DS1.close()\n",
    "\n",
    "f_MLP_DS2 = open(\"output_files/Base-MLP-DS2.csv\", \"a\")\n",
    "conf_2 = confusion_matrix(Y_test_2, Y_pred_2)\n",
    "report_2 = classification_report(Y_test_2, Y_pred_2)\n",
    "f_MLP_DS2.write(\"\\nConfusion Matrix:\\n\\n\")\n",
    "f_MLP_DS2.write(str(conf_2))\n",
    "f_MLP_DS2.write(\"\\n\\nClassification Report:\\n\\n\")\n",
    "f_MLP_DS2.write(str(report_2))\n",
    "f_MLP_DS2.close()"
   ]
  },
  {
   "cell_type": "markdown",
   "metadata": {},
   "source": [
    "### Best-MLP"
   ]
  },
  {
   "cell_type": "code",
   "execution_count": 24,
   "metadata": {},
   "outputs": [
    {
     "name": "stderr",
     "output_type": "stream",
     "text": [
      "/opt/conda/lib/python3.8/site-packages/sklearn/neural_network/_multilayer_perceptron.py:582: ConvergenceWarning: Stochastic Optimizer: Maximum iterations (200) reached and the optimization hasn't converged yet.\n",
      "  warnings.warn(\n"
     ]
    },
    {
     "name": "stdout",
     "output_type": "stream",
     "text": [
      "Finished\n"
     ]
    },
    {
     "name": "stderr",
     "output_type": "stream",
     "text": [
      "/opt/conda/lib/python3.8/site-packages/sklearn/neural_network/_multilayer_perceptron.py:582: ConvergenceWarning: Stochastic Optimizer: Maximum iterations (200) reached and the optimization hasn't converged yet.\n",
      "  warnings.warn(\n"
     ]
    }
   ],
   "source": [
    "# Imports for MLP\n",
    "from sklearn.neural_network import MLPClassifier\n",
    "\n",
    "parameters = {\n",
    "    'activation':['logistic', 'tanh', 'relu', 'identity'], \n",
    "    'hidden_layer_sizes':[(30, 50), (10, 10, 10)],\n",
    "    'solver':['adam', 'sgd'],\n",
    "}\n",
    "# Best MLP\n",
    "mlp = GridSearchCV(estimator=MLPClassifier(), param_grid=parameters, n_jobs=-1)\n",
    "\n",
    "# DS1\n",
    "trained_model_1 = mlp.fit(X_train_1, Y_train_1)\n",
    "Y_pred_1 = trained_model_1.predict(X_test_1)\n",
    "\n",
    "# DS2\n",
    "trained_model_2 = mlp.fit(X_train_2, Y_train_2)\n",
    "Y_pred_2 = trained_model_2.predict(X_test_2)\n",
    "\n",
    "# Outputs\n",
    "MLP_DS1 = pd.DataFrame(data=Y_pred_1)\n",
    "MLP_DS1.index = MLP_DS1.index + 1\n",
    "MLP_DS1.to_csv(\"output_files/Best-MLP-DS1.csv\", header=None)\n",
    "\n",
    "MLP_DS2 = pd.DataFrame(data=Y_pred_2)\n",
    "MLP_DS2.index = MLP_DS2.index + 1\n",
    "MLP_DS2.to_csv(\"output_files/Best-MLP-DS2.csv\", header=None)\n",
    "\n",
    "f_MLP_DS1 = open(\"output_files/Best-MLP-DS1.csv\", \"a\")\n",
    "conf_1 = confusion_matrix(Y_test_1, Y_pred_1)\n",
    "report_1 = classification_report(Y_test_1, Y_pred_1)\n",
    "f_MLP_DS1.write(\"\\nConfusion Matrix:\\n\\n\")\n",
    "f_MLP_DS1.write(str(conf_1))\n",
    "f_MLP_DS1.write(\"\\n\\nClassification Report:\\n\\n\")\n",
    "f_MLP_DS1.write(str(report_1))\n",
    "f_MLP_DS1.close()\n",
    "\n",
    "f_MLP_DS2 = open(\"output_files/Best-MLP-DS2.csv\", \"a\")\n",
    "conf_2 = confusion_matrix(Y_test_2, Y_pred_2)\n",
    "report_2 = classification_report(Y_test_2, Y_pred_2)\n",
    "f_MLP_DS2.write(\"\\nConfusion Matrix:\\n\\n\")\n",
    "f_MLP_DS2.write(str(conf_2))\n",
    "f_MLP_DS2.write(\"\\n\\nClassification Report:\\n\\n\")\n",
    "f_MLP_DS2.write(str(report_2))\n",
    "f_MLP_DS2.close()\n",
    "\n",
    "print(\"Finished\")"
   ]
  },
  {
   "cell_type": "code",
   "execution_count": 25,
   "metadata": {},
   "outputs": [
    {
     "name": "stdout",
     "output_type": "stream",
     "text": [
      "Best hyperparameters:\n",
      "{'activation': 'tanh', 'hidden_layer_sizes': (30, 50), 'solver': 'sgd'}\n",
      "{'activation': 'tanh', 'hidden_layer_sizes': (30, 50), 'solver': 'sgd'}\n"
     ]
    }
   ],
   "source": [
    "print(\"Best hyperparameters:\")\n",
    "print(trained_model_1.best_params_)\n",
    "print(trained_model_2.best_params_)"
   ]
  },
  {
   "cell_type": "markdown",
   "metadata": {},
   "source": [
    "### Aggregated results of all models and all data sets"
   ]
  },
  {
   "cell_type": "code",
   "execution_count": 68,
   "metadata": {},
   "outputs": [],
   "source": [
    "# accuracy [0], \n",
    "# precision_macro_avg [1], precision_weighted_avg[2],\n",
    "# recall_macro_avg[3], recall_weighted_avg[4], \n",
    "# f1_macro_avg[5], f1_weighted_avg[6]\n",
    "\n",
    "metrics = {\n",
    "    'DS1': {          #   acc  m_pr  w_pr   m_r   w_r  m_f1  w_f1\n",
    "        'GNB-DS1':      [0.69, 0.74, 0.75, 0.69, 0.69, 0.68, 0.69],\n",
    "        'Base-DT-DS1':  [0.49, 0.49, 0.51, 0.47, 0.49, 0.45, 0.47],\n",
    "        'Best-DT-DS1':  [0.46, 0.45, 0.48, 0.45, 0.46, 0.42, 0.45],\n",
    "        'PER-DS1':      [0.78, 0.79, 0.80, 0.76, 0.78, 0.76, 0.77],\n",
    "        'Base-MLP-DS1': [0.45, 0.32, 0.36, 0.40, 0.45, 0.32, 0.36],\n",
    "        'Best-MLP-DS1': [0.81, 0.85, 0.85, 0.81, 0.81, 0.80, 0.80]\n",
    "    },\n",
    "    'DS2': {\n",
    "        'GNB-DS2':      [0.67, 0.64, 0.75, 0.68, 0.67, 0.60, 0.68],\n",
    "        'Base-DT-DS2':  [0.78, 0.73, 0.78, 0.69, 0.78, 0.71, 0.78],    \n",
    "        'Best-DT-DS2':  [0.74, 0.69, 0.74, 0.68, 0.74, 0.68, 0.74],\n",
    "        'PER-DS2':      [0.84, 0.83, 0.84, 0.78, 0.84, 0.79, 0.83],\n",
    "        'Base-MLP-DS2': [0.83, 0.84, 0.83, 0.73, 0.83, 0.76, 0.82],\n",
    "        'Best-MLP-DS2': [0.87, 0.87, 0.87, 0.81, 0.87, 0.83, 0.87]        \n",
    "    }\n",
    "}"
   ]
  },
  {
   "cell_type": "markdown",
   "metadata": {},
   "source": [
    "### Observations\n",
    "\n",
    "- Concerning accuracy, macro precision, weighted precision, macro recall, weighted precision, macro f1 and weighted f1, Best-MLP is the best model for both of these data sets. It was expected, since neural networks are usually better performing than other models (in general).\n",
    "\n",
    "- Using the data set 1, the models have worse performance than with data set 2 (exception is with GNB: Gaussian Naive Bayes). The main reason for this is that data set 1 has more classes than data set 2 so it is harder to correctly predict the right outcome.\n",
    "\n",
    "- For data set 1, the models Base-DT, Best-DT and Base-MLP have performed significantly worse than for data set 2. \n",
    "\n",
    "- For both data sets, the Best-DT performs worse than the Base-DT. This could be caused by the the fact that our model trained itself by doing k-fold validation and picking the best hyperparameters for the validations sets (from the training set), but it actually resulted in worse performance when tested against the test set.\n",
    "\n",
    "- To properly evaluate the models, it will be better to use the weighted averages when it is trained against data set 1 because the classes are not evenly distributed (observed from our prior analysis of the data sets).\n"
   ]
  }
 ],
 "metadata": {
  "kernelspec": {
   "display_name": "Python 3",
   "language": "python",
   "name": "python3"
  },
  "language_info": {
   "codemirror_mode": {
    "name": "ipython",
    "version": 3
   },
   "file_extension": ".py",
   "mimetype": "text/x-python",
   "name": "python",
   "nbconvert_exporter": "python",
   "pygments_lexer": "ipython3",
   "version": "3.8.5"
  }
 },
 "nbformat": 4,
 "nbformat_minor": 4
}
