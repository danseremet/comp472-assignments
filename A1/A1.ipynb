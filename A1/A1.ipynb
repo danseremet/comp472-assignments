{
 "cells": [
  {
   "cell_type": "markdown",
   "metadata": {},
   "source": [
    "# Assignment 1"
   ]
  },
  {
   "cell_type": "markdown",
   "metadata": {},
   "source": [
    "### Imports"
   ]
  },
  {
   "cell_type": "code",
   "execution_count": 1,
   "metadata": {},
   "outputs": [],
   "source": [
    "import pandas as pd "
   ]
  },
  {
   "cell_type": "markdown",
   "metadata": {},
   "source": [
    "### Load data"
   ]
  },
  {
   "cell_type": "code",
   "execution_count": 2,
   "metadata": {},
   "outputs": [],
   "source": [
    "info_1 = pd.read_csv(\"data/info_1.csv\") \n",
    "info_2 = pd.read_csv(\"data/info_2.csv\") \n",
    "test_no_label_1 = pd.read_csv(\"data/test_no_label_1.csv\") \n",
    "test_no_label_2 = pd.read_csv(\"data/test_no_label_2.csv\") \n",
    "test_with_label_1 = pd.read_csv(\"data/test_with_label_1.csv\") \n",
    "test_with_label_2 = pd.read_csv(\"data/test_with_label_2.csv\") \n",
    "train_1 = pd.read_csv(\"data/train_1.csv\") \n",
    "train_2 = pd.read_csv(\"data/train_2.csv\") \n",
    "val_1 = pd.read_csv(\"data/val_1.csv\") \n",
    "val_2 = pd.read_csv(\"data/val_2.csv\") \n",
    "sample_submission = pd.read_csv(\"data/sample_submission.csv\") "
   ]
  },
  {
   "cell_type": "code",
   "execution_count": 3,
   "metadata": {},
   "outputs": [],
   "source": [
    "# Print \n",
    "# info_2"
   ]
  },
  {
   "cell_type": "code",
   "execution_count": null,
   "metadata": {},
   "outputs": [],
   "source": []
  }
 ],
 "metadata": {
  "kernelspec": {
   "display_name": "Python 3",
   "language": "python",
   "name": "python3"
  },
  "language_info": {
   "codemirror_mode": {
    "name": "ipython",
    "version": 3
   },
   "file_extension": ".py",
   "mimetype": "text/x-python",
   "name": "python",
   "nbconvert_exporter": "python",
   "pygments_lexer": "ipython3",
   "version": "3.8.5"
  }
 },
 "nbformat": 4,
 "nbformat_minor": 4
}
